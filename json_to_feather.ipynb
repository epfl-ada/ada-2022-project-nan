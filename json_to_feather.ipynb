{
 "cells": [
  {
   "cell_type": "code",
   "execution_count": 1,
   "id": "d96d02cc",
   "metadata": {},
   "outputs": [],
   "source": [
    "import pandas as pd\n",
    "import modin.pandas as md\n",
    "import numpy as np\n",
    "import seaborn as sns\n",
    "import matplotlib.pyplot as plt"
   ]
  },
  {
   "cell_type": "code",
   "execution_count": 2,
   "id": "68c73661",
   "metadata": {},
   "outputs": [],
   "source": [
    "# Load data\n",
    "\n",
    "dfs = []\n",
    "for df_json in pd.read_json('yt_metadata_en.jsonl.gz', compression=\"infer\", chunksize=5000000, lines=True):\n",
    "    df_json.drop([\"description\", \"title\", \"dislike_count\"], inplace=True, axis=1)\n",
    "    df_json[\"upload_date\"] = pd.to_datetime(df_json[\"upload_date\"])\n",
    "    df_json[\"crawl_date\"] = pd.to_datetime(df_json[\"crawl_date\"])\n",
    "\n",
    "    dfs.append(df_json)"
   ]
  },
  {
   "cell_type": "code",
   "execution_count": 3,
   "id": "e0e6c0d4",
   "metadata": {},
   "outputs": [],
   "source": [
    "df = pd.concat(dfs)"
   ]
  },
  {
   "cell_type": "code",
   "execution_count": 4,
   "id": "98db6c28",
   "metadata": {},
   "outputs": [],
   "source": [
    "df.to_feather('yt_metadata_wo_desc_title_dislike.feather')"
   ]
  }
 ],
 "metadata": {
  "kernelspec": {
   "display_name": "Python 3",
   "language": "python",
   "name": "python3"
  },
  "language_info": {
   "codemirror_mode": {
    "name": "ipython",
    "version": 3
   },
   "file_extension": ".py",
   "mimetype": "text/x-python",
   "name": "python",
   "nbconvert_exporter": "python",
   "pygments_lexer": "ipython3",
   "version": "3.11.0 (v3.11.0:deaf509e8f, Oct 24 2022, 14:43:23) [Clang 13.0.0 (clang-1300.0.29.30)]"
  },
  "vscode": {
   "interpreter": {
    "hash": "aee8b7b246df8f9039afb4144a1f6fd8d2ca17a180786b69acc140d282b71a49"
   }
  }
 },
 "nbformat": 4,
 "nbformat_minor": 5
}
