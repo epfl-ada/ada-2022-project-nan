{
 "cells": [
  {
   "attachments": {},
   "cell_type": "markdown",
   "metadata": {},
   "source": [
    "# Exploration Notebook v1 - Jacopo\n",
    "\n",
    "Here we are!\n",
    "\n",
    "Recap of v0:\n",
    "- Exploration of metadata datasets\n",
    "- Attempts at parallization of the data loading and preprocessing\n",
    "- Creation of new datasets with the preprocessed data\n",
    "- Work on Tags:\n",
    "  - word embeddings with conceptnet 300d vectors on the first 1M tags\n",
    "  - creation of a new dataset with the embeddings of the tags as an np array, loads much faster and easy to work with\n",
    "  - dimensionality reduction for visualization with t-SNE -> 2D and 3D of the whole 1M and 100k tags (3d only on 100k as proof of concept)\n",
    "  - K-Means clustering with k=15 on the 100k 3D tags, interactive 3d Visualization with colors assigned to clusters\n",
    "  - Suggestions on next steps for tags and clustering, various groupings and possible weights"
   ]
  }
 ],
 "metadata": {
  "language_info": {
   "name": "python"
  },
  "orig_nbformat": 4
 },
 "nbformat": 4,
 "nbformat_minor": 2
}
